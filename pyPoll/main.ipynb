{
 "cells": [
  {
   "cell_type": "code",
   "execution_count": 1,
   "metadata": {},
   "outputs": [],
   "source": [
    "import pandas as pd\n",
    "\n",
    "election_data = pd.read_csv(\"Resources/election_data.csv\")"
   ]
  },
  {
   "cell_type": "code",
   "execution_count": 2,
   "metadata": {},
   "outputs": [],
   "source": [
    "#total number of votes\n",
    "total_votes = len(election_data)\n",
    "#print(total_votes)"
   ]
  },
  {
   "cell_type": "code",
   "execution_count": 3,
   "metadata": {},
   "outputs": [],
   "source": [
    "#get candidates and sum\n",
    "election_candidates = election_data[\"Candidate\"].value_counts()\n",
    "# print(election_candidates.sum()) #check sum of votes\n",
    "# print(election_candidates.keys())\n",
    "#winner = first person in value count"
   ]
  },
  {
   "cell_type": "code",
   "execution_count": 4,
   "metadata": {},
   "outputs": [],
   "source": [
    "#percentage of votes\n",
    "percentages = election_candidates.to_frame()\n",
    "percentages[\"Percent of Vote\"] = round(percentages[\"Candidate\"]/percentages[\"Candidate\"].sum() * 100,3)\n",
    "#print(percentages)"
   ]
  },
  {
   "cell_type": "code",
   "execution_count": 6,
   "metadata": {},
   "outputs": [
    {
     "name": "stdout",
     "output_type": "stream",
     "text": [
      "Election Results\n",
      "--------------------------\n",
      "Total Votes: 369711\n",
      "--------------------------\n",
      "Diana DeGette: 73.812%  (272892.0)\n",
      "Charles Casper Stockham: 23.049%  (85213.0)\n",
      "Raymon Anthony Doane: 3.139%  (11606.0)\n",
      "\n",
      "--------------------------\n",
      "Winner: Diana DeGette\n",
      "--------------------------\n"
     ]
    }
   ],
   "source": [
    "candidate =''\n",
    "for index, row in percentages.iterrows():\n",
    "    candidate += f'''{index}: {row[\"Percent of Vote\"]}%  ({row[\"Candidate\"]})\n",
    "'''\n",
    "message = f'''Election Results\n",
    "--------------------------\n",
    "Total Votes: {election_candidates.sum()}\n",
    "--------------------------\n",
    "{candidate}\n",
    "--------------------------\n",
    "Winner: {election_candidates.index[0]}\n",
    "--------------------------'''\n",
    "print(message)\n",
    "\n",
    "with open(\"Analysis/Results.txt\", \"w\") as f:\n",
    "    f.write(message)"
   ]
  }
 ],
 "metadata": {
  "interpreter": {
   "hash": "ff39433d367775670857b5a26fe0f62904f7bab0aa1764437f86463c08ac313f"
  },
  "kernelspec": {
   "display_name": "Python 3.9.7 ('base')",
   "language": "python",
   "name": "python3"
  },
  "language_info": {
   "codemirror_mode": {
    "name": "ipython",
    "version": 3
   },
   "file_extension": ".py",
   "mimetype": "text/x-python",
   "name": "python",
   "nbconvert_exporter": "python",
   "pygments_lexer": "ipython3",
   "version": "3.9.7"
  },
  "orig_nbformat": 4
 },
 "nbformat": 4,
 "nbformat_minor": 2
}

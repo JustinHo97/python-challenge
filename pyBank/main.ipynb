{
 "cells": [
  {
   "cell_type": "code",
   "execution_count": 1,
   "metadata": {},
   "outputs": [],
   "source": [
    "import pandas as pd\n",
    "#import data into dataframe\n",
    "budget_data_df = pd.read_csv(\"Resources/budget_data.csv\")\n",
    "#print(budget_data_df)"
   ]
  },
  {
   "cell_type": "code",
   "execution_count": 2,
   "metadata": {},
   "outputs": [],
   "source": [
    "#total months in dataset\n",
    "total_months = len(budget_data_df)\n",
    "#print(total_months)"
   ]
  },
  {
   "cell_type": "code",
   "execution_count": 3,
   "metadata": {},
   "outputs": [],
   "source": [
    "#net_total amount\n",
    "total_amount = budget_data_df[\"Profit/Losses\"].sum()\n",
    "#print(total_amount)"
   ]
  },
  {
   "cell_type": "code",
   "execution_count": 4,
   "metadata": {},
   "outputs": [],
   "source": [
    "#average changes in Profit/Losses, retrieve index of greatest loss & profit\n",
    "profit_change = budget_data_df\n",
    "profit_change[\"Change in Profit\"] = budget_data_df[\"Profit/Losses\"].diff()\n",
    "#print(profit_change)\n",
    "average_change = profit_change[\"Change in Profit\"].mean()\n",
    "lowest_profit = profit_change[\"Change in Profit\"].idxmin()\n",
    "greatest_profit = profit_change[\"Change in Profit\"].idxmax()\n",
    "#print(profit_change[[\"Date\", \"Change in Profit\"]].iloc[greatest_profit])"
   ]
  },
  {
   "cell_type": "code",
   "execution_count": 8,
   "metadata": {},
   "outputs": [
    {
     "name": "stdout",
     "output_type": "stream",
     "text": [
      " Financial Analysis\n",
      "------------------------------\n",
      "Total Monts: 86\n",
      "Total: $22564198\n",
      "Average Change: $-8311.11\n",
      "Greatest Increase in Profits: Aug-16 ($1862002.0)\n",
      "Greatest Decrease in Profits: Feb-14 ($-1825558.0)\n"
     ]
    }
   ],
   "source": [
    "#output message\n",
    "\n",
    "message = f''' Financial Analysis\n",
    "------------------------------\n",
    "Total Monts: {total_months}\n",
    "Total: ${total_amount}\n",
    "Average Change: ${round(average_change, 2)}\n",
    "Greatest Increase in Profits: {profit_change[\"Date\"].iloc[greatest_profit]} (${profit_change[\"Change in Profit\"].iloc[greatest_profit]})\n",
    "Greatest Decrease in Profits: {profit_change[\"Date\"].iloc[lowest_profit]} (${profit_change[\"Change in Profit\"].iloc[lowest_profit]})'''\n",
    "print(message)\n",
    "\n",
    "with open(\"Analysis/Analysis.txt\", \"w\") as f:\n",
    "    f.write(message)"
   ]
  }
 ],
 "metadata": {
  "interpreter": {
   "hash": "ff39433d367775670857b5a26fe0f62904f7bab0aa1764437f86463c08ac313f"
  },
  "kernelspec": {
   "display_name": "Python 3.9.7 ('base')",
   "language": "python",
   "name": "python3"
  },
  "language_info": {
   "codemirror_mode": {
    "name": "ipython",
    "version": 3
   },
   "file_extension": ".py",
   "mimetype": "text/x-python",
   "name": "python",
   "nbconvert_exporter": "python",
   "pygments_lexer": "ipython3",
   "version": "3.9.7"
  },
  "orig_nbformat": 4
 },
 "nbformat": 4,
 "nbformat_minor": 2
}
